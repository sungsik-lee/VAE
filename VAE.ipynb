{
  "nbformat": 4,
  "nbformat_minor": 0,
  "metadata": {
    "colab": {
      "provenance": [],
      "gpuType": "T4",
      "toc_visible": true
    },
    "kernelspec": {
      "name": "python3",
      "display_name": "Python 3"
    },
    "language_info": {
      "name": "python"
    },
    "accelerator": "GPU"
  },
  "cells": [
    {
      "cell_type": "code",
      "execution_count": null,
      "metadata": {
        "id": "4rk-8mnasbhF"
      },
      "outputs": [],
      "source": [
        "import torch\n",
        "from torchvision import datasets, transforms\n",
        "\n",
        "transform = transforms.Compose([transforms.ToTensor()])\n",
        "\n",
        "train_dataset = datasets.MNIST(root='./data', train=True, download=True, transform=transform)\n",
        "test_dataset = datasets.MNIST(root='./data', train=False, download=True, transform=transform)\n",
        "\n",
        "# 데이터로더 생성\n",
        "train_loader = torch.utils.data.DataLoader(dataset=train_dataset, batch_size=64, shuffle=True, drop_last=True)\n",
        "test_loader = torch.utils.data.DataLoader(dataset=test_dataset, batch_size=64, shuffle=False, drop_last=True)\n"
      ]
    },
    {
      "cell_type": "code",
      "source": [
        "import matplotlib.pyplot as plt\n",
        "\n",
        "print(train_dataset[0][0])\n",
        "\n",
        "plt.imshow(train_dataset[0][0].permute(1,2,0))  # 텐서의 차원을 조정하여 이미지로 변환\n",
        "plt.title('Tensor Visualization')\n",
        "plt.show()\n"
      ],
      "metadata": {
        "id": "D0DimgVL54LN"
      },
      "execution_count": null,
      "outputs": []
    },
    {
      "cell_type": "code",
      "source": [
        "from torch import nn\n",
        "\n",
        "class Encoder(nn.Module):\n",
        "    def __init__(self, data_dim, hid_dim, hid_dim2 , lat_dim):\n",
        "        super(Encoder, self).__init__()\n",
        "        self.data_dim = data_dim\n",
        "        self.hid_dim = hid_dim\n",
        "        self.hid_dim2 = hid_dim2\n",
        "        self.lat_dim = lat_dim\n",
        "\n",
        "\n",
        "        self.net=nn.Sequential(nn.Linear(self.data_dim, self.hid_dim), nn.ReLU(),\n",
        "                      nn.Linear(self.hid_dim , self.hid_dim2), nn.ReLU(),\n",
        "                      )\n",
        "        self.mu_net = nn.Linear(self.hid_dim2 , self.lat_dim)\n",
        "        self.logvar_net = nn.Linear(self.hid_dim2, self.lat_dim)\n",
        "\n",
        "    def reparameterization(self, mu, logvar):\n",
        "\n",
        "        epsilon = torch.randn_like(logvar)\n",
        "        z = mu+ epsilon*torch.exp(0.5*logvar)\n",
        "        return z\n",
        "\n",
        "    def reparameterization2(self, mu, logvar):\n",
        "        z = [ ]\n",
        "        for i in range(len(mu)):\n",
        "            epsilon = torch.randn(self.lat_dim)\n",
        "            z_data= mu[i] + epsilon * torch.exp(0.5*logvar[i])\n",
        "            z.append(z_data)\n",
        "        z_batch =torch.stack(z, dim =0)\n",
        "        return z_batch\n",
        "\n",
        "    def forward(self, x):\n",
        "        x= self.net(x)\n",
        "        mu = self.mu_net(x)\n",
        "        logvar = self.logvar_net(x)\n",
        "        z = self.reparameterization2(mu, logvar)\n",
        "\n",
        "        return z, mu, logvar\n",
        "\n",
        "class Decoder(nn.Module):\n",
        "    def __init__(self,  lat_dim, hid_dim, hid_dim2, data_dim):\n",
        "        super(Decoder, self).__init__()\n",
        "        self.data_dim = data_dim\n",
        "        self.hid_dim = hid_dim\n",
        "        self.hid_dim2 = hid_dim2\n",
        "        self.lat_dim = lat_dim\n",
        "\n",
        "\n",
        "        self.net=nn.Sequential(nn.Linear(self.lat_dim, self.hid_dim), nn.ReLU(),\n",
        "                      nn.Linear(self.hid_dim , self.hid_dim2), nn.ReLU(),\n",
        "                      nn.Linear(self.hid_dim2 , self.data_dim))\n",
        "\n",
        "    def forward(self, x):\n",
        "        x = self.net(x)\n",
        "        pred = nn.Sigmoid()(x)\n",
        "        return pred"
      ],
      "metadata": {
        "id": "WMJU3YKR57Yl"
      },
      "execution_count": null,
      "outputs": []
    },
    {
      "cell_type": "code",
      "source": [
        "device = torch.device(\"cuda:0\" if torch.cuda.is_available() else \"cpu\")\n",
        "\n",
        "print(device)"
      ],
      "metadata": {
        "id": "aHnjMnWYNXF_"
      },
      "execution_count": null,
      "outputs": []
    },
    {
      "cell_type": "code",
      "source": [
        "import torch.nn.functional as F\n",
        "\n",
        "epoch = 200\n",
        "\n",
        "encoder = Encoder(28*28, 400, 200, 2).to(device)\n",
        "decoder = Decoder(2, 200, 400, 28*28).to(device)\n",
        "\n",
        "parameters = list(encoder.parameters()) + list(decoder.parameters())\n",
        "optimizer = torch.optim.Adam(parameters, lr=0.001)\n",
        "\n",
        "encoder.train()\n",
        "decoder.train()\n",
        "\n",
        "loss_stack = []\n",
        "\n",
        "for i in range(epoch):\n",
        "    loss_r =0\n",
        "    for x_batch, _ in train_loader:\n",
        "        x_batch = x_batch.view(64, -1).to(device)\n",
        "        z, mu, logvar = encoder(x_batch)\n",
        "\n",
        "        recon_x_batch = decoder(z)\n",
        "\n",
        "        reconst_loss = nn.BCELoss(reduction='sum')(recon_x_batch, x_batch)\n",
        "        regular_loss = 0.5 * torch.sum(mu**2 + torch.exp(logvar) - logvar - 1)\n",
        "\n",
        "\n",
        "        loss = reconst_loss + regular_loss\n",
        "        loss_r += loss\n",
        "\n",
        "        optimizer.zero_grad()\n",
        "        loss.backward()\n",
        "        optimizer.step()\n",
        "    real_loss  = loss_r /len(train_dataset)\n",
        "    loss_stack.append(real_loss)\n",
        "\n",
        "    print(f\" For epoch{i+1}, Loss : {real_loss}\")\n",
        "    print(\"-\"*30)"
      ],
      "metadata": {
        "id": "i5EanOI4-ONa"
      },
      "execution_count": null,
      "outputs": []
    },
    {
      "cell_type": "code",
      "source": [
        "check_num_image = 10\n",
        "z = torch.randn(check_num_image, 2).to(device)\n",
        "\n",
        "\n",
        "# x, y 각각에 대해 -1부터 1까지 0.1 간격으로 균일하게 숫자를 생성\n",
        "x_values = torch.linspace(-1, 1, 20).to(device)\n",
        "y_values = torch.linspace(-1, 1, 20).to(device)\n",
        "\n",
        "# 생성된 x_values와 y_values를 조합하여 2차원 텐서 생성\n",
        "grid_tensor = torch.stack(torch.meshgrid(x_values, y_values), dim=-1)\n",
        "\n",
        "# 2차원 텐서를 flatten하여 최종 결과 텐서 생성\n",
        "result_tensor = grid_tensor.view(-1, 2)\n",
        "\n",
        "sampled_images = decoder(result_tensor).to(device).view(400, 28, 28)\n",
        "\n",
        "# Inference 결과 시각화\n",
        "fig = plt.figure(figsize=(10, 10))\n",
        "for idx, img in enumerate(sampled_images):\n",
        "    ax = fig.add_subplot(20, 20, idx+1)\n",
        "    img = img.cpu()\n",
        "    img = img.detach().numpy()\n",
        "    ax.imshow(img, cmap='gray')\n"
      ],
      "metadata": {
        "id": "scRf4ZP__vQp"
      },
      "execution_count": null,
      "outputs": []
    },
    {
      "cell_type": "code",
      "source": [
        "z= torch.tensor([0.3 , 0.2]).to(device)\n",
        "\n",
        "a = decoder(z).to(device).view(28, 28)\n",
        "fig = plt.figure(figsize=(1, 1))\n",
        "\n",
        "img = a.cpu()\n",
        "img = img.detach().numpy()\n",
        "plt.imshow(img, cmap='gray')"
      ],
      "metadata": {
        "id": "UukyiUH1BtrX"
      },
      "execution_count": null,
      "outputs": []
    },
    {
      "cell_type": "code",
      "source": [],
      "metadata": {
        "id": "VYcrqBriaPee"
      },
      "execution_count": null,
      "outputs": []
    }
  ]
}